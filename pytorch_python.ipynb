{
  "nbformat": 4,
  "nbformat_minor": 0,
  "metadata": {
    "colab": {
      "name": "pytorch_python.ipynb",
      "provenance": [],
      "collapsed_sections": [],
      "include_colab_link": true
    },
    "kernelspec": {
      "name": "python3",
      "display_name": "Python 3"
    },
    "accelerator": "GPU"
  },
  "cells": [
    {
      "cell_type": "markdown",
      "metadata": {
        "id": "view-in-github",
        "colab_type": "text"
      },
      "source": [
        "<a href=\"https://colab.research.google.com/github/Musu1/Deep-Learning/blob/master/pytorch_python.ipynb\" target=\"_parent\"><img src=\"https://colab.research.google.com/assets/colab-badge.svg\" alt=\"Open In Colab\"/></a>"
      ]
    },
    {
      "cell_type": "code",
      "metadata": {
        "id": "PXBEGs-i8Mdr",
        "colab_type": "code",
        "colab": {}
      },
      "source": [
        "import torch\n",
        "import numpy as np\n",
        "import matplotlib.pyplot as plt"
      ],
      "execution_count": 0,
      "outputs": []
    },
    {
      "cell_type": "markdown",
      "metadata": {
        "id": "0hsPJvUyFkKb",
        "colab_type": "text"
      },
      "source": [
        "# **Initialise tensors**"
      ]
    },
    {
      "cell_type": "code",
      "metadata": {
        "id": "riI1PSdKFo-8",
        "colab_type": "code",
        "outputId": "ffd03db7-9479-48fb-a177-15a70a970b74",
        "colab": {
          "base_uri": "https://localhost:8080/",
          "height": 170
        }
      },
      "source": [
        "# x is of tensor datatype\n",
        "x=torch.ones(3,2)\n",
        "print(x)\n",
        "x=torch.zeros(3,2)\n",
        "print(x)\n",
        "x=torch.rand(3,2)\n",
        "print(x)"
      ],
      "execution_count": 87,
      "outputs": [
        {
          "output_type": "stream",
          "text": [
            "tensor([[1., 1.],\n",
            "        [1., 1.],\n",
            "        [1., 1.]])\n",
            "tensor([[0., 0.],\n",
            "        [0., 0.],\n",
            "        [0., 0.]])\n",
            "tensor([[0.5120, 0.4467],\n",
            "        [0.3735, 0.9256],\n",
            "        [0.7119, 0.2485]])\n"
          ],
          "name": "stdout"
        }
      ]
    },
    {
      "cell_type": "code",
      "metadata": {
        "id": "R5dPWIBXGAad",
        "colab_type": "code",
        "outputId": "bdc7a07e-cdcc-40a8-b319-c8c44febc0e4",
        "colab": {
          "base_uri": "https://localhost:8080/",
          "height": 170
        }
      },
      "source": [
        "x=torch.empty(3,2)\n",
        "print(x)\n",
        "# If _like is used then we don't have to mention datatype\n",
        "y=torch.rand_like(x)\n",
        "print(y)\n",
        "y=torch.ones_like(x)\n",
        "print(y)"
      ],
      "execution_count": 88,
      "outputs": [
        {
          "output_type": "stream",
          "text": [
            "tensor([[-2.3725e+22,  0.0000e+00],\n",
            "        [ 4.4842e-44,  0.0000e+00],\n",
            "        [        nan,  0.0000e+00]])\n",
            "tensor([[0.8280, 0.2161],\n",
            "        [0.4093, 0.7944],\n",
            "        [0.5492, 0.7487]])\n",
            "tensor([[1., 1.],\n",
            "        [1., 1.],\n",
            "        [1., 1.]])\n"
          ],
          "name": "stdout"
        }
      ]
    },
    {
      "cell_type": "code",
      "metadata": {
        "id": "vIUEZpbWGYy-",
        "colab_type": "code",
        "outputId": "52b2c9c4-acbe-4e39-e973-2ac5c73f4482",
        "colab": {
          "base_uri": "https://localhost:8080/",
          "height": 51
        }
      },
      "source": [
        "x=torch.linspace(0,1,15)\n",
        "print(x)"
      ],
      "execution_count": 89,
      "outputs": [
        {
          "output_type": "stream",
          "text": [
            "tensor([0.0000, 0.0714, 0.1429, 0.2143, 0.2857, 0.3571, 0.4286, 0.5000, 0.5714,\n",
            "        0.6429, 0.7143, 0.7857, 0.8571, 0.9286, 1.0000])\n"
          ],
          "name": "stdout"
        }
      ]
    },
    {
      "cell_type": "code",
      "metadata": {
        "id": "IDiBF5ypGlyO",
        "colab_type": "code",
        "outputId": "d44ed3f1-7eaa-4e53-eedb-05fc66d50c95",
        "colab": {
          "base_uri": "https://localhost:8080/",
          "height": 68
        }
      },
      "source": [
        "x=torch.tensor([[3,2],[5,4],[7,6]])\n",
        "print(x)"
      ],
      "execution_count": 90,
      "outputs": [
        {
          "output_type": "stream",
          "text": [
            "tensor([[3, 2],\n",
            "        [5, 4],\n",
            "        [7, 6]])\n"
          ],
          "name": "stdout"
        }
      ]
    },
    {
      "cell_type": "markdown",
      "metadata": {
        "id": "nXiwMii5HDKO",
        "colab_type": "text"
      },
      "source": [
        "# **Slicing the tensors**"
      ]
    },
    {
      "cell_type": "code",
      "metadata": {
        "id": "ZNeG_WaCHMZ6",
        "colab_type": "code",
        "outputId": "00725d1c-6c74-48a9-a59a-7a26b4e3eca0",
        "colab": {
          "base_uri": "https://localhost:8080/",
          "height": 68
        }
      },
      "source": [
        "# Slicing is same as pytorch\n",
        "print(x.size())\n",
        "print(x[:,0])\n",
        "print(x[2,:])"
      ],
      "execution_count": 91,
      "outputs": [
        {
          "output_type": "stream",
          "text": [
            "torch.Size([3, 2])\n",
            "tensor([3, 5, 7])\n",
            "tensor([7, 6])\n"
          ],
          "name": "stdout"
        }
      ]
    },
    {
      "cell_type": "code",
      "metadata": {
        "id": "hY_11Kb8WneD",
        "colab_type": "code",
        "colab": {
          "base_uri": "https://localhost:8080/",
          "height": 51
        },
        "outputId": "c3c0d709-3a17-4e96-9608-e413ed9a1832"
      },
      "source": [
        "print(x[0:2,0])\n",
        "print(x[0:3,1])"
      ],
      "execution_count": 92,
      "outputs": [
        {
          "output_type": "stream",
          "text": [
            "tensor([3, 5])\n",
            "tensor([2, 4, 6])\n"
          ],
          "name": "stdout"
        }
      ]
    },
    {
      "cell_type": "code",
      "metadata": {
        "id": "WP6sd9Z2XDvk",
        "colab_type": "code",
        "colab": {
          "base_uri": "https://localhost:8080/",
          "height": 51
        },
        "outputId": "18c58a19-0340-464a-8ee3-c59062c04035"
      },
      "source": [
        "#By using item we convert from tensor data type to digit\n",
        "y=x[2,1]\n",
        "print(y)\n",
        "print(y.item())"
      ],
      "execution_count": 93,
      "outputs": [
        {
          "output_type": "stream",
          "text": [
            "tensor(6)\n",
            "6\n"
          ],
          "name": "stdout"
        }
      ]
    },
    {
      "cell_type": "markdown",
      "metadata": {
        "id": "shYAypUkXc-m",
        "colab_type": "text"
      },
      "source": [
        "# Reshaping the tensors"
      ]
    },
    {
      "cell_type": "code",
      "metadata": {
        "id": "kKzpQS_2XhZI",
        "colab_type": "code",
        "colab": {
          "base_uri": "https://localhost:8080/",
          "height": 102
        },
        "outputId": "52b90fc5-9b9e-4e8c-bdb2-1f74f0ab387f"
      },
      "source": [
        "#view is used to reshape the tensors\n",
        "print(x)\n",
        "y=x.view(2,3)\n",
        "print(y)"
      ],
      "execution_count": 94,
      "outputs": [
        {
          "output_type": "stream",
          "text": [
            "tensor([[3, 2],\n",
            "        [5, 4],\n",
            "        [7, 6]])\n",
            "tensor([[3, 2, 5],\n",
            "        [4, 7, 6]])\n"
          ],
          "name": "stdout"
        }
      ]
    },
    {
      "cell_type": "code",
      "metadata": {
        "id": "RTXJ7ACDmd0i",
        "colab_type": "code",
        "colab": {
          "base_uri": "https://localhost:8080/",
          "height": 119
        },
        "outputId": "921761f8-3a2d-4c64-d565-7dc94f05a4ac"
      },
      "source": [
        "#If -1 is specified then only one of the size need to be mentioned ,other will be decided accordingly\n",
        "y=x.view(6,-1)\n",
        "print(y)"
      ],
      "execution_count": 95,
      "outputs": [
        {
          "output_type": "stream",
          "text": [
            "tensor([[3],\n",
            "        [2],\n",
            "        [5],\n",
            "        [4],\n",
            "        [7],\n",
            "        [6]])\n"
          ],
          "name": "stdout"
        }
      ]
    },
    {
      "cell_type": "code",
      "metadata": {
        "id": "b-R4QVt0m7i6",
        "colab_type": "code",
        "colab": {
          "base_uri": "https://localhost:8080/",
          "height": 68
        },
        "outputId": "1464656a-f44c-4c7b-cbe0-efaec5947b7c"
      },
      "source": [
        "y=x.view(3,-1)\n",
        "print(y)"
      ],
      "execution_count": 96,
      "outputs": [
        {
          "output_type": "stream",
          "text": [
            "tensor([[3, 2],\n",
            "        [5, 4],\n",
            "        [7, 6]])\n"
          ],
          "name": "stdout"
        }
      ]
    },
    {
      "cell_type": "markdown",
      "metadata": {
        "id": "ZiTxZf5tnecZ",
        "colab_type": "text"
      },
      "source": [
        "# Simple tensor operations"
      ]
    },
    {
      "cell_type": "code",
      "metadata": {
        "id": "XSbuxrobniUy",
        "colab_type": "code",
        "colab": {
          "base_uri": "https://localhost:8080/",
          "height": 170
        },
        "outputId": "9f65a83b-1c22-4c68-e722-8eff921dfd33"
      },
      "source": [
        "x=torch.ones(3,2)\n",
        "y=torch.ones(3,2)\n",
        "z=x+y\n",
        "print(z)\n",
        "z=x-y\n",
        "print(z)\n",
        "z=x*y\n",
        "print(z)"
      ],
      "execution_count": 97,
      "outputs": [
        {
          "output_type": "stream",
          "text": [
            "tensor([[2., 2.],\n",
            "        [2., 2.],\n",
            "        [2., 2.]])\n",
            "tensor([[0., 0.],\n",
            "        [0., 0.],\n",
            "        [0., 0.]])\n",
            "tensor([[1., 1.],\n",
            "        [1., 1.],\n",
            "        [1., 1.]])\n"
          ],
          "name": "stdout"
        }
      ]
    },
    {
      "cell_type": "code",
      "metadata": {
        "id": "rmkgi7Hlrr-t",
        "colab_type": "code",
        "colab": {
          "base_uri": "https://localhost:8080/",
          "height": 119
        },
        "outputId": "948982a8-6b82-42cb-bc36-0a41bd79c945"
      },
      "source": [
        "z=x.add(y)\n",
        "print(z)\n",
        "print(x)"
      ],
      "execution_count": 98,
      "outputs": [
        {
          "output_type": "stream",
          "text": [
            "tensor([[2., 2.],\n",
            "        [2., 2.],\n",
            "        [2., 2.]])\n",
            "tensor([[1., 1.],\n",
            "        [1., 1.],\n",
            "        [1., 1.]])\n"
          ],
          "name": "stdout"
        }
      ]
    },
    {
      "cell_type": "code",
      "metadata": {
        "id": "fqtE-x5gsFF6",
        "colab_type": "code",
        "colab": {
          "base_uri": "https://localhost:8080/",
          "height": 119
        },
        "outputId": "303c6278-053a-4440-d81b-2784b85bec9f"
      },
      "source": [
        "# add_ is used then \n",
        "z=x.add_(y)\n",
        "print(z)\n",
        "print(x)"
      ],
      "execution_count": 99,
      "outputs": [
        {
          "output_type": "stream",
          "text": [
            "tensor([[2., 2.],\n",
            "        [2., 2.],\n",
            "        [2., 2.]])\n",
            "tensor([[2., 2.],\n",
            "        [2., 2.],\n",
            "        [2., 2.]])\n"
          ],
          "name": "stdout"
        }
      ]
    },
    {
      "cell_type": "markdown",
      "metadata": {
        "id": "PTuzKFgqtO9D",
        "colab_type": "text"
      },
      "source": [
        "# Numpy Vs Pytorch"
      ]
    },
    {
      "cell_type": "code",
      "metadata": {
        "id": "oxmiVB_rtXTE",
        "colab_type": "code",
        "colab": {
          "base_uri": "https://localhost:8080/",
          "height": 136
        },
        "outputId": "a6019620-bab1-4dbd-8f6b-57c9c574213d"
      },
      "source": [
        "#converting from tensor to numpy\n",
        "print(x)\n",
        "x_np=x.numpy()\n",
        "print(type(x),type(x_np))\n",
        "print(x_np)"
      ],
      "execution_count": 100,
      "outputs": [
        {
          "output_type": "stream",
          "text": [
            "tensor([[2., 2.],\n",
            "        [2., 2.],\n",
            "        [2., 2.]])\n",
            "<class 'torch.Tensor'> <class 'numpy.ndarray'>\n",
            "[[2. 2.]\n",
            " [2. 2.]\n",
            " [2. 2.]]\n"
          ],
          "name": "stdout"
        }
      ]
    },
    {
      "cell_type": "code",
      "metadata": {
        "id": "SInEiw1FcJ9D",
        "colab_type": "code",
        "colab": {
          "base_uri": "https://localhost:8080/",
          "height": 68
        },
        "outputId": "15bfe5fe-39c0-433e-f506-a07b0c2b1f9e"
      },
      "source": [
        "#numpy array to tensor datatype\n",
        "a=np.random.randn(5)\n",
        "print(a)\n",
        "a_pt=torch.from_numpy(a)\n",
        "print(type(a),type(a_pt))\n",
        "print(a_pt)"
      ],
      "execution_count": 101,
      "outputs": [
        {
          "output_type": "stream",
          "text": [
            "[-0.48359666  0.14246943  1.24944953  0.37444187  0.81015037]\n",
            "<class 'numpy.ndarray'> <class 'torch.Tensor'>\n",
            "tensor([-0.4836,  0.1425,  1.2494,  0.3744,  0.8102], dtype=torch.float64)\n"
          ],
          "name": "stdout"
        }
      ]
    },
    {
      "cell_type": "code",
      "metadata": {
        "id": "T5FjKEU8ct4R",
        "colab_type": "code",
        "colab": {
          "base_uri": "https://localhost:8080/",
          "height": 51
        },
        "outputId": "4af34ed1-f8ec-4467-ded9-df10a82887b8"
      },
      "source": [
        "np.add(a,1,out=a)\n",
        "print(a)\n",
        "print(a_pt)"
      ],
      "execution_count": 102,
      "outputs": [
        {
          "output_type": "stream",
          "text": [
            "[0.51640334 1.14246943 2.24944953 1.37444187 1.81015037]\n",
            "tensor([0.5164, 1.1425, 2.2494, 1.3744, 1.8102], dtype=torch.float64)\n"
          ],
          "name": "stdout"
        }
      ]
    },
    {
      "cell_type": "code",
      "metadata": {
        "id": "DqxNQlrqdS1G",
        "colab_type": "code",
        "colab": {
          "base_uri": "https://localhost:8080/",
          "height": 51
        },
        "outputId": "d726ec1d-1e9e-432f-ae44-7176abe97efb"
      },
      "source": [
        "#Any operation using tensors take less time then using numpy arrays \n",
        "%%time\n",
        "for i in range(100):\n",
        "  a=np.random.randn(100,100)\n",
        "  b=np.random.randn(100,100)\n",
        "  c=a+b"
      ],
      "execution_count": 103,
      "outputs": [
        {
          "output_type": "stream",
          "text": [
            "CPU times: user 102 ms, sys: 1.92 ms, total: 104 ms\n",
            "Wall time: 112 ms\n"
          ],
          "name": "stdout"
        }
      ]
    },
    {
      "cell_type": "code",
      "metadata": {
        "id": "x9BPL9brenUt",
        "colab_type": "code",
        "colab": {
          "base_uri": "https://localhost:8080/",
          "height": 51
        },
        "outputId": "b2bd044e-672c-451a-d292-370445056d36"
      },
      "source": [
        "%%time\n",
        "for i in range(100):\n",
        "  a=torch.tensor([100,100])\n",
        "  b=torch.tensor([100,100])\n",
        "  c=a+b"
      ],
      "execution_count": 104,
      "outputs": [
        {
          "output_type": "stream",
          "text": [
            "CPU times: user 2.53 ms, sys: 11 µs, total: 2.54 ms\n",
            "Wall time: 2.83 ms\n"
          ],
          "name": "stdout"
        }
      ]
    },
    {
      "cell_type": "code",
      "metadata": {
        "id": "ihsQ1x0RfPjF",
        "colab_type": "code",
        "colab": {
          "base_uri": "https://localhost:8080/",
          "height": 51
        },
        "outputId": "4a75fb66-2a14-407b-a4e2-31789f0ea3cf"
      },
      "source": [
        "%%time\n",
        "for i in range(100):\n",
        "  a=np.random.randn(100,100)\n",
        "  b=np.random.randn(100,100)\n",
        "  c=a*b"
      ],
      "execution_count": 105,
      "outputs": [
        {
          "output_type": "stream",
          "text": [
            "CPU times: user 93.6 ms, sys: 0 ns, total: 93.6 ms\n",
            "Wall time: 94.6 ms\n"
          ],
          "name": "stdout"
        }
      ]
    },
    {
      "cell_type": "code",
      "metadata": {
        "id": "SwLe8OJUffx_",
        "colab_type": "code",
        "colab": {
          "base_uri": "https://localhost:8080/",
          "height": 51
        },
        "outputId": "c9e5d581-0da0-4be5-cb37-9d7a74adeaac"
      },
      "source": [
        "%%time\n",
        "for i in range(100):\n",
        "  a=torch.tensor([100,100])\n",
        "  b=torch.tensor([100,100])\n",
        "  c=a*b"
      ],
      "execution_count": 106,
      "outputs": [
        {
          "output_type": "stream",
          "text": [
            "CPU times: user 1.35 ms, sys: 959 µs, total: 2.31 ms\n",
            "Wall time: 2.53 ms\n"
          ],
          "name": "stdout"
        }
      ]
    },
    {
      "cell_type": "code",
      "metadata": {
        "id": "gbjL9a3Of0Gq",
        "colab_type": "code",
        "colab": {
          "base_uri": "https://localhost:8080/",
          "height": 51
        },
        "outputId": "1976ecc0-5466-4cae-fc49-57e8f78c120f"
      },
      "source": [
        "%%time\n",
        "for i in range(100):\n",
        "  a=np.random.randn(100,100)\n",
        "  b=np.random.randn(100,100)\n",
        "  c=np.matmul(a,b)"
      ],
      "execution_count": 107,
      "outputs": [
        {
          "output_type": "stream",
          "text": [
            "CPU times: user 167 ms, sys: 109 ms, total: 276 ms\n",
            "Wall time: 149 ms\n"
          ],
          "name": "stdout"
        }
      ]
    },
    {
      "cell_type": "code",
      "metadata": {
        "id": "fTiYGp7hf0ic",
        "colab_type": "code",
        "colab": {
          "base_uri": "https://localhost:8080/",
          "height": 51
        },
        "outputId": "8b10f09e-3eb6-4bbf-c145-c9c07aeb931c"
      },
      "source": [
        "%%time\n",
        "for i in range(100):\n",
        "  a=torch.tensor([100,100])\n",
        "  b=torch.tensor([100,100])\n",
        "  c=torch.matmul(a,b)"
      ],
      "execution_count": 108,
      "outputs": [
        {
          "output_type": "stream",
          "text": [
            "CPU times: user 2.45 ms, sys: 9 µs, total: 2.46 ms\n",
            "Wall time: 2.63 ms\n"
          ],
          "name": "stdout"
        }
      ]
    },
    {
      "cell_type": "markdown",
      "metadata": {
        "id": "AnOAgdjpiyBd",
        "colab_type": "text"
      },
      "source": [
        "# Cuda Support"
      ]
    },
    {
      "cell_type": "code",
      "metadata": {
        "id": "KXMR1CByi0c4",
        "colab_type": "code",
        "colab": {
          "base_uri": "https://localhost:8080/",
          "height": 34
        },
        "outputId": "e0a589f1-152e-4960-ec12-5860d58b2a08"
      },
      "source": [
        "#This command tells us if you have any GPUS in your suystem\n",
        "#Cuda is language extension by nvidia to program in GPUs dfirectly\n",
        "#So this command will tell us how many cuda supported devices we have?\n",
        "print(torch.cuda.device_count())"
      ],
      "execution_count": 109,
      "outputs": [
        {
          "output_type": "stream",
          "text": [
            "1\n"
          ],
          "name": "stdout"
        }
      ]
    },
    {
      "cell_type": "code",
      "metadata": {
        "id": "M9Y10LFJkQGe",
        "colab_type": "code",
        "colab": {
          "base_uri": "https://localhost:8080/",
          "height": 51
        },
        "outputId": "43cf4805-5074-4209-aa95-63b2f0ce620d"
      },
      "source": [
        "#This will tell us the cuda device location and name\n",
        "print(torch.cuda.device(0))\n",
        "print(torch.cuda.get_device_name(0))"
      ],
      "execution_count": 110,
      "outputs": [
        {
          "output_type": "stream",
          "text": [
            "<torch.cuda.device object at 0x7fcba3ea1470>\n",
            "Tesla K80\n"
          ],
          "name": "stdout"
        }
      ]
    },
    {
      "cell_type": "code",
      "metadata": {
        "id": "gygzWi3skxQC",
        "colab_type": "code",
        "colab": {}
      },
      "source": [
        "#Now we can reference the device at location 0 with cuda0 \n",
        "cuda0=torch.device('cuda:0')"
      ],
      "execution_count": 0,
      "outputs": []
    },
    {
      "cell_type": "code",
      "metadata": {
        "id": "QyPbkniYlshY",
        "colab_type": "code",
        "colab": {
          "base_uri": "https://localhost:8080/",
          "height": 102
        },
        "outputId": "0723067c-ff89-4a57-fe73-9f3547bc6bf8"
      },
      "source": [
        "#Now to do the operation in GPU instead of CPU we use the reference above\n",
        "%%time\n",
        "for i in range(100):\n",
        "  a=torch.ones(3,2,device=cuda0)\n",
        "  b=torch.ones(3,2,device=cuda0)\n",
        "  c=a+b\n",
        "print(c)"
      ],
      "execution_count": 112,
      "outputs": [
        {
          "output_type": "stream",
          "text": [
            "tensor([[2., 2.],\n",
            "        [2., 2.],\n",
            "        [2., 2.]], device='cuda:0')\n",
            "CPU times: user 9.12 ms, sys: 14 ms, total: 23.1 ms\n",
            "Wall time: 21.8 ms\n"
          ],
          "name": "stdout"
        }
      ]
    },
    {
      "cell_type": "code",
      "metadata": {
        "id": "wy_8Rm-Kmxvs",
        "colab_type": "code",
        "colab": {
          "base_uri": "https://localhost:8080/",
          "height": 51
        },
        "outputId": "b1bfc036-6077-4cee-ccfa-45dc771719d4"
      },
      "source": [
        "#we have already seen that pytorch do operation about 3 to 5 times faster then numpy but here the GPU support do it 1000 time faster\n",
        "%%time\n",
        "for i in range(10):\n",
        "  a=np.random.randn(10000,10000)\n",
        "  b=np.random.randn(10000,10000)\n",
        "  np.add(b,a)"
      ],
      "execution_count": 113,
      "outputs": [
        {
          "output_type": "stream",
          "text": [
            "CPU times: user 1min 32s, sys: 251 ms, total: 1min 32s\n",
            "Wall time: 1min 32s\n"
          ],
          "name": "stdout"
        }
      ]
    },
    {
      "cell_type": "code",
      "metadata": {
        "id": "dtdGosshna9P",
        "colab_type": "code",
        "colab": {
          "base_uri": "https://localhost:8080/",
          "height": 51
        },
        "outputId": "7d6f5cd8-f5bc-40fd-db56-7d432b2d9cd2"
      },
      "source": [
        "%%time\n",
        "for i in range(10):\n",
        "  a_cpu=torch.randn([10000,10000])\n",
        "  b_cpu=torch.randn([10000,10000])\n",
        "  b_cpu.add_(a_cpu)"
      ],
      "execution_count": 114,
      "outputs": [
        {
          "output_type": "stream",
          "text": [
            "CPU times: user 23.3 s, sys: 8.57 ms, total: 23.3 s\n",
            "Wall time: 23.4 s\n"
          ],
          "name": "stdout"
        }
      ]
    },
    {
      "cell_type": "code",
      "metadata": {
        "id": "BVexIxpZn3IB",
        "colab_type": "code",
        "colab": {
          "base_uri": "https://localhost:8080/",
          "height": 51
        },
        "outputId": "e4a142ef-22ab-4b31-c487-fe6169210870"
      },
      "source": [
        "%%time\n",
        "for i in range(10):\n",
        "  a=torch.randn([10000,10000],device=cuda0)\n",
        "  b=torch.randn([10000,10000],device=cuda0)\n",
        "  b.add_(a)\n",
        "  "
      ],
      "execution_count": 115,
      "outputs": [
        {
          "output_type": "stream",
          "text": [
            "CPU times: user 1.09 ms, sys: 987 µs, total: 2.07 ms\n",
            "Wall time: 1.85 ms\n"
          ],
          "name": "stdout"
        }
      ]
    },
    {
      "cell_type": "markdown",
      "metadata": {
        "id": "VkchinPYozol",
        "colab_type": "text"
      },
      "source": [
        "# Autograd"
      ]
    },
    {
      "cell_type": "code",
      "metadata": {
        "id": "D2MRjm98xOfW",
        "colab_type": "code",
        "colab": {
          "base_uri": "https://localhost:8080/",
          "height": 68
        },
        "outputId": "e9283e1b-e844-40e3-db46-72286d5fb48c"
      },
      "source": [
        "#Autograd calculates the gradient automatically. We won't have to the forward and backward pass like we are doing till now manually.\n",
        "#requires_grad is used with the variable with respect to which we calculate differentiation\n",
        "x=torch.ones([3,2],requires_grad=True)\n",
        "print(x)"
      ],
      "execution_count": 116,
      "outputs": [
        {
          "output_type": "stream",
          "text": [
            "tensor([[1., 1.],\n",
            "        [1., 1.],\n",
            "        [1., 1.]], requires_grad=True)\n"
          ],
          "name": "stdout"
        }
      ]
    },
    {
      "cell_type": "code",
      "metadata": {
        "id": "Cr7rtXiAyPII",
        "colab_type": "code",
        "colab": {
          "base_uri": "https://localhost:8080/",
          "height": 68
        },
        "outputId": "4217ac13-bc91-4422-9912-5145c478b942"
      },
      "source": [
        "# We have started the forward pass\n",
        "y=x+5\n",
        "print(y)"
      ],
      "execution_count": 117,
      "outputs": [
        {
          "output_type": "stream",
          "text": [
            "tensor([[6., 6.],\n",
            "        [6., 6.],\n",
            "        [6., 6.]], grad_fn=<AddBackward0>)\n"
          ],
          "name": "stdout"
        }
      ]
    },
    {
      "cell_type": "code",
      "metadata": {
        "id": "ROpwjspnyd1_",
        "colab_type": "code",
        "colab": {
          "base_uri": "https://localhost:8080/",
          "height": 68
        },
        "outputId": "0d2f5d00-7ecd-4737-b6d7-3d0a7782e08f"
      },
      "source": [
        "z=y*y+1\n",
        "print(z)"
      ],
      "execution_count": 118,
      "outputs": [
        {
          "output_type": "stream",
          "text": [
            "tensor([[37., 37.],\n",
            "        [37., 37.],\n",
            "        [37., 37.]], grad_fn=<AddBackward0>)\n"
          ],
          "name": "stdout"
        }
      ]
    },
    {
      "cell_type": "code",
      "metadata": {
        "id": "TN_WLISMykFr",
        "colab_type": "code",
        "colab": {
          "base_uri": "https://localhost:8080/",
          "height": 34
        },
        "outputId": "00e10cfc-0f76-4966-ee55-8e208c811231"
      },
      "source": [
        "t=torch.sum(z)\n",
        "print(t)"
      ],
      "execution_count": 119,
      "outputs": [
        {
          "output_type": "stream",
          "text": [
            "tensor(222., grad_fn=<SumBackward0>)\n"
          ],
          "name": "stdout"
        }
      ]
    },
    {
      "cell_type": "code",
      "metadata": {
        "id": "zGghhd69ysGo",
        "colab_type": "code",
        "colab": {}
      },
      "source": [
        "#Now we do the backward pass we won't get output right now but here it calculates the differentiations automatically\n",
        "t.backward()"
      ],
      "execution_count": 0,
      "outputs": []
    },
    {
      "cell_type": "code",
      "metadata": {
        "id": "XEDEsdPjzun4",
        "colab_type": "code",
        "colab": {
          "base_uri": "https://localhost:8080/",
          "height": 68
        },
        "outputId": "c16a73da-a739-46df-e1fb-4b5a2580a96b"
      },
      "source": [
        "print(x.grad)"
      ],
      "execution_count": 121,
      "outputs": [
        {
          "output_type": "stream",
          "text": [
            "tensor([[12., 12.],\n",
            "        [12., 12.],\n",
            "        [12., 12.]])\n"
          ],
          "name": "stdout"
        }
      ]
    },
    {
      "cell_type": "code",
      "metadata": {
        "id": "jdvve2qQ0HG-",
        "colab_type": "code",
        "colab": {
          "base_uri": "https://localhost:8080/",
          "height": 119
        },
        "outputId": "04b9e369-c342-49ec-f4ec-62612c1b79f5"
      },
      "source": [
        "#In both these examples we have used torch.sum before backward function because we need to use a parameter in the fxn if we are doing backward pass on tensor not on no.\n",
        "x=torch.ones([3,2],requires_grad=True)\n",
        "y=x+5\n",
        "r=1/(1+torch.exp(-y))\n",
        "print(r)\n",
        "s=torch.sum(r)\n",
        "s.backward()\n",
        "print(x.grad)"
      ],
      "execution_count": 122,
      "outputs": [
        {
          "output_type": "stream",
          "text": [
            "tensor([[0.9975, 0.9975],\n",
            "        [0.9975, 0.9975],\n",
            "        [0.9975, 0.9975]], grad_fn=<MulBackward0>)\n",
            "tensor([[0.0025, 0.0025],\n",
            "        [0.0025, 0.0025],\n",
            "        [0.0025, 0.0025]])\n"
          ],
          "name": "stdout"
        }
      ]
    },
    {
      "cell_type": "code",
      "metadata": {
        "id": "hnMQ03xI2kI4",
        "colab_type": "code",
        "colab": {
          "base_uri": "https://localhost:8080/",
          "height": 119
        },
        "outputId": "85d8b8f9-1c81-47ee-dc0c-ebf25b1722ca"
      },
      "source": [
        "#So here we are using a parameter in backward function because here backward pass is done on a tensor\n",
        "#we have used a to do a point multiplication with r and since it is one so won't affect\n",
        "x=torch.ones([3,2],requires_grad=True)\n",
        "y=x+5\n",
        "r=1/(1+torch.exp(-y))\n",
        "print(r)\n",
        "a=torch.ones([3,2])\n",
        "r.backward(a)\n",
        "print(x.grad)"
      ],
      "execution_count": 123,
      "outputs": [
        {
          "output_type": "stream",
          "text": [
            "tensor([[0.9975, 0.9975],\n",
            "        [0.9975, 0.9975],\n",
            "        [0.9975, 0.9975]], grad_fn=<MulBackward0>)\n",
            "tensor([[0.0025, 0.0025],\n",
            "        [0.0025, 0.0025],\n",
            "        [0.0025, 0.0025]])\n"
          ],
          "name": "stdout"
        }
      ]
    },
    {
      "cell_type": "markdown",
      "metadata": {
        "id": "khKS6Nao4NDv",
        "colab_type": "text"
      },
      "source": [
        "# Autograd Example"
      ]
    },
    {
      "cell_type": "code",
      "metadata": {
        "id": "ZumlFCHe4QiV",
        "colab_type": "code",
        "colab": {}
      },
      "source": [
        "#So here we would compute loss to see how we can use autograd with neural network\n",
        "x=torch.randn([20,1],requires_grad=True) # Input to the neural net\n",
        "y=3*x-2 # Actual output"
      ],
      "execution_count": 0,
      "outputs": []
    },
    {
      "cell_type": "code",
      "metadata": {
        "id": "-Rtb2IP78Z4W",
        "colab_type": "code",
        "colab": {}
      },
      "source": [
        "w=torch.tensor([.1],requires_grad=True)\n",
        "b=torch.tensor([.1],requires_grad=True)\n",
        "y_hat=w*x+b\n",
        "loss=torch.sum((y_hat-y)**2)"
      ],
      "execution_count": 0,
      "outputs": []
    },
    {
      "cell_type": "code",
      "metadata": {
        "id": "ut_zOzt087fn",
        "colab_type": "code",
        "colab": {
          "base_uri": "https://localhost:8080/",
          "height": 34
        },
        "outputId": "7d2df077-cd5d-4618-a41b-9d5bb6f282f1"
      },
      "source": [
        "#We can see loss is too large because we have assumed w and b as 1 but really it is 3 and -2\n",
        "print(loss)"
      ],
      "execution_count": 126,
      "outputs": [
        {
          "output_type": "stream",
          "text": [
            "tensor(304.0748, grad_fn=<SumBackward0>)\n"
          ],
          "name": "stdout"
        }
      ]
    },
    {
      "cell_type": "code",
      "metadata": {
        "id": "faHkUCUH8_QV",
        "colab_type": "code",
        "colab": {}
      },
      "source": [
        "loss.backward()"
      ],
      "execution_count": 0,
      "outputs": []
    },
    {
      "cell_type": "code",
      "metadata": {
        "id": "tL0uBIlw9Q3N",
        "colab_type": "code",
        "colab": {
          "base_uri": "https://localhost:8080/",
          "height": 34
        },
        "outputId": "9184a4a1-87f5-40a9-bb42-a4388fbd7a5e"
      },
      "source": [
        "#Here the w gradient is negative because as we increase weight loss will decrease and b gradient is positive because as we increase bias loss will increase\n",
        "print(w.grad,b.grad)"
      ],
      "execution_count": 128,
      "outputs": [
        {
          "output_type": "stream",
          "text": [
            "tensor([-131.3526]) tensor([108.2033])\n"
          ],
          "name": "stdout"
        }
      ]
    },
    {
      "cell_type": "markdown",
      "metadata": {
        "id": "FjyOoKtF9wNx",
        "colab_type": "text"
      },
      "source": [
        "# Do it in a loop"
      ]
    },
    {
      "cell_type": "code",
      "metadata": {
        "id": "k9vRO8ka9zUz",
        "colab_type": "code",
        "colab": {
          "base_uri": "https://localhost:8080/",
          "height": 204
        },
        "outputId": "cc2e9667-7b18-4fb5-e784-9e7837e82792"
      },
      "source": [
        "learning_rate=0.01\n",
        "\n",
        "w=torch.tensor([1.],requires_grad=True) # We initialised w=1\n",
        "b=torch.tensor([1.],requires_grad=True) # We initialised b=1\n",
        "\n",
        "print(w.item(),b.item())\n",
        "\n",
        "for i in range(10):\n",
        "  x=torch.randn([20,1]) # Input variables\n",
        "  y=3*x-2               # Output variable\n",
        "  y_hat=w*x+b           # Predicted values\n",
        "  loss=torch.sum((y_hat-y)**2) #Loss calculation\n",
        "  loss.backward()       #calculation loass wrt w and b\n",
        "  \n",
        "  #we used torch.no_grad so that it does not bookeep forevery w and b update and in that it will work as normal airthmetic operation\n",
        "  with torch.no_grad():\n",
        "    w-=learning_rate*w.grad\n",
        "    b-=learning_rate*b.grad\n",
        "    w.grad.zero_()\n",
        "    b.grad.zero_()\n",
        "  \n",
        "  print(w.item(),b.item())"
      ],
      "execution_count": 129,
      "outputs": [
        {
          "output_type": "stream",
          "text": [
            "1.0 1.0\n",
            "1.778407335281372 -0.24135327339172363\n",
            "2.280791759490967 -0.9031935334205627\n",
            "2.4622151851654053 -1.342228889465332\n",
            "2.795983076095581 -1.7079941034317017\n",
            "2.857198476791382 -1.8053561449050903\n",
            "2.92468523979187 -1.8912137746810913\n",
            "2.9553229808807373 -1.9321346282958984\n",
            "2.96923828125 -1.9575343132019043\n",
            "2.980092763900757 -1.9759339094161987\n",
            "2.98529052734375 -1.9835783243179321\n"
          ],
          "name": "stdout"
        }
      ]
    },
    {
      "cell_type": "code",
      "metadata": {
        "id": "WSZKEdPmRM9g",
        "colab_type": "code",
        "colab": {
          "base_uri": "https://localhost:8080/",
          "height": 51
        },
        "outputId": "ff715823-352b-47b7-afd2-7d756bd54d1c"
      },
      "source": [
        "%%time\n",
        "\n",
        "learning_rate=0.001\n",
        "N=1000\n",
        "epochs=100\n",
        "\n",
        "w=torch.randn([N],requires_grad=True)\n",
        "b=torch.ones([1],requires_grad=True)\n",
        "#print(torch.mean(w).item(),b.item())\n",
        "\n",
        "for i in range(epochs):\n",
        "  x=torch.randn([N])\n",
        "  y=torch.dot(3*torch.ones([N]),x)-2\n",
        "  y_hat=torch.dot(w,x)+b\n",
        "  loss=torch.sum((y_hat-y)**2)\n",
        "  loss.backward()\n",
        "  \n",
        "  with torch.no_grad():\n",
        "    w-=learning_rate*w.grad\n",
        "    b-=learning_rate*b.grad\n",
        "    w.grad.zero_()\n",
        "    b.grad.zero_()\n",
        " # print(w.item(),b.item())"
      ],
      "execution_count": 130,
      "outputs": [
        {
          "output_type": "stream",
          "text": [
            "CPU times: user 45.1 ms, sys: 3.61 ms, total: 48.7 ms\n",
            "Wall time: 50.3 ms\n"
          ],
          "name": "stdout"
        }
      ]
    },
    {
      "cell_type": "code",
      "metadata": {
        "id": "6aXXmLmJT5xm",
        "colab_type": "code",
        "colab": {
          "base_uri": "https://localhost:8080/",
          "height": 51
        },
        "outputId": "4d9ffec6-bb00-497d-aa29-580c693f6e8b"
      },
      "source": [
        "%%time\n",
        "\n",
        "learning_rate=0.001\n",
        "N=1000\n",
        "epochs=100\n",
        "\n",
        "w=torch.randn([N],requires_grad=True,device=cuda0)\n",
        "b=torch.ones([1],requires_grad=True,device=cuda0)\n",
        "#print(torch.mean(w).item(),b.item())\n",
        "\n",
        "for i in range(epochs):\n",
        "  x=torch.randn([N],device=cuda0)\n",
        "  y=torch.dot(3*torch.ones([N],device=cuda0),x)-2\n",
        "  y_hat=torch.dot(w,x)+b\n",
        "  loss=torch.sum((y_hat-y)**2)\n",
        "  loss.backward()\n",
        "  \n",
        "  with torch.no_grad():\n",
        "    w-=learning_rate*w.grad\n",
        "    b-=learning_rate*b.grad\n",
        "    w.grad.zero_()\n",
        "    b.grad.zero_()\n",
        " # print(w.item(),b.item())"
      ],
      "execution_count": 131,
      "outputs": [
        {
          "output_type": "stream",
          "text": [
            "CPU times: user 239 ms, sys: 114 ms, total: 354 ms\n",
            "Wall time: 357 ms\n"
          ],
          "name": "stdout"
        }
      ]
    },
    {
      "cell_type": "markdown",
      "metadata": {
        "id": "l83oXiW_Kou6",
        "colab_type": "text"
      },
      "source": [
        ""
      ]
    }
  ]
}
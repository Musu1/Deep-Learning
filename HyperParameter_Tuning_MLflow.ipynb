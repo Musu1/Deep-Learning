{
  "nbformat": 4,
  "nbformat_minor": 0,
  "metadata": {
    "colab": {
      "name": "HyperParameter_Tuning_MLflow.ipynb",
      "provenance": [],
      "authorship_tag": "ABX9TyMkfUuc8DQ9HUrECPomVkC7",
      "include_colab_link": true
    },
    "kernelspec": {
      "name": "python3",
      "display_name": "Python 3"
    }
  },
  "cells": [
    {
      "cell_type": "markdown",
      "metadata": {
        "id": "view-in-github",
        "colab_type": "text"
      },
      "source": [
        "<a href=\"https://colab.research.google.com/github/Musu1/Deep-Learning/blob/master/HyperParameter_Tuning_MLflow.ipynb\" target=\"_parent\"><img src=\"https://colab.research.google.com/assets/colab-badge.svg\" alt=\"Open In Colab\"/></a>"
      ]
    },
    {
      "cell_type": "markdown",
      "metadata": {
        "id": "DE2EITqvkJwW",
        "colab_type": "text"
      },
      "source": [
        "# **Connecting Google colab on local runtime**\n",
        "\n",
        "#### **Use this on Anaconda cmd**\n",
        "\n",
        "jupyter notebook --NotebookApp.allow_origin='https://colab.research.google.com' --NotebookApp.port_retries=0 --notebook-dir=\"\" --no-browser --allow-root --NotebookApp.token='' --NotebookApp.disable_check_xsrf=True --port=8888\n",
        "\n",
        "#### **Then go to**\n",
        "\n",
        "localhost:8888 \n",
        "on your browser.\n",
        "\n",
        "#### **Now In your colab just use this url**\n",
        "\n",
        "http://localhost:8888/\n",
        "\n",
        "and then it will connected to local.\n",
        "\n",
        "Note: You can change the directory in anaconda before startig the notebook."
      ]
    },
    {
      "cell_type": "markdown",
      "metadata": {
        "id": "b19CIcvelEbc",
        "colab_type": "text"
      },
      "source": [
        ""
      ]
    }
  ]
}
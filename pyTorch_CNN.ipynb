{
  "nbformat": 4,
  "nbformat_minor": 0,
  "metadata": {
    "colab": {
      "name": "pyTorch_CNN.ipynb",
      "provenance": [],
      "include_colab_link": true
    },
    "kernelspec": {
      "name": "python3",
      "display_name": "Python 3"
    },
    "accelerator": "GPU"
  },
  "cells": [
    {
      "cell_type": "markdown",
      "metadata": {
        "id": "view-in-github",
        "colab_type": "text"
      },
      "source": [
        "<a href=\"https://colab.research.google.com/github/Musu1/Deep-Learning/blob/master/pyTorch_CNN.ipynb\" target=\"_parent\"><img src=\"https://colab.research.google.com/assets/colab-badge.svg\" alt=\"Open In Colab\"/></a>"
      ]
    },
    {
      "cell_type": "code",
      "metadata": {
        "id": "i4YekyYPJgfu",
        "colab_type": "code",
        "colab": {}
      },
      "source": [
        "import torch\n",
        "import matplotlib.pyplot as plt\n",
        "import numpy as np"
      ],
      "execution_count": 0,
      "outputs": []
    },
    {
      "cell_type": "markdown",
      "metadata": {
        "id": "hs6T6CwoJ8_1",
        "colab_type": "text"
      },
      "source": [
        "# Data Loading"
      ]
    },
    {
      "cell_type": "code",
      "metadata": {
        "id": "UdG5ynW4KAWP",
        "colab_type": "code",
        "outputId": "c670a5fc-70e2-447a-ce3b-ff688599ea93",
        "colab": {
          "base_uri": "https://localhost:8080/",
          "height": 34
        }
      },
      "source": [
        "import torchvision #This library is for using computer vision with pytorch\n",
        "import torchvision.transforms as transforms\n",
        "# Data set which we are using is CIFAR10 which has 32x32 size images dividede in 10 classes can be found on google. Also there is CIFAR100 which has 100 classes\n",
        "#We can either download manually or use this comand to download this particular dataset\n",
        "trainset=torchvision.datasets.CIFAR10(root='./data',train=True,download=True,transform=transforms.ToTensor())"
      ],
      "execution_count": 2,
      "outputs": [
        {
          "output_type": "stream",
          "text": [
            "Files already downloaded and verified\n"
          ],
          "name": "stdout"
        }
      ]
    },
    {
      "cell_type": "code",
      "metadata": {
        "id": "kgi6Ioo-LgR1",
        "colab_type": "code",
        "colab": {}
      },
      "source": [
        "# Now the labels from the data would be indexes and not the names so we are manually putting them\n",
        "classes=('plane','car','bird','cat','deer','dog','frog','horse','ship','truck')"
      ],
      "execution_count": 0,
      "outputs": []
    },
    {
      "cell_type": "code",
      "metadata": {
        "id": "1DGs695vijyF",
        "colab_type": "code",
        "colab": {}
      },
      "source": [
        "# We are loading data from trainset (downloaded one) and in batch size of 4 that is everytime it will give me 4 different images\n",
        "trainloader=torch.utils.data.DataLoader(trainset,batch_size=4,shuffle='True')"
      ],
      "execution_count": 0,
      "outputs": []
    },
    {
      "cell_type": "code",
      "metadata": {
        "id": "DTaD83Hnkem3",
        "colab_type": "code",
        "outputId": "d89e4bef-8f40-4555-f351-667515b48db0",
        "colab": {
          "base_uri": "https://localhost:8080/",
          "height": 68
        }
      },
      "source": [
        "#Now I need to create an iterator to iterate over the trainloader\n",
        "dataiter=iter(trainloader)\n",
        "images,labels=dataiter.next()\n",
        "print(images.shape) #This would give us a batch of four images size\n",
        "print(images[0].shape) # This shows length,width and height of a image\n",
        "print(labels[0].item()) # This will return an index which can be inferred from classes"
      ],
      "execution_count": 5,
      "outputs": [
        {
          "output_type": "stream",
          "text": [
            "torch.Size([4, 3, 32, 32])\n",
            "torch.Size([3, 32, 32])\n",
            "6\n"
          ],
          "name": "stdout"
        }
      ]
    },
    {
      "cell_type": "markdown",
      "metadata": {
        "id": "Lcm-YC9loZDU",
        "colab_type": "text"
      },
      "source": [
        "#Visualise data"
      ]
    },
    {
      "cell_type": "code",
      "metadata": {
        "id": "EdtSlhPpoc02",
        "colab_type": "code",
        "outputId": "b0daf553-fc57-454e-b19d-f6b33534378c",
        "colab": {
          "base_uri": "https://localhost:8080/",
          "height": 34
        }
      },
      "source": [
        "img=images[0]\n",
        "print(type(img))"
      ],
      "execution_count": 6,
      "outputs": [
        {
          "output_type": "stream",
          "text": [
            "<class 'torch.Tensor'>\n"
          ],
          "name": "stdout"
        }
      ]
    },
    {
      "cell_type": "code",
      "metadata": {
        "id": "oPleqbLdqir6",
        "colab_type": "code",
        "outputId": "ba764226-fdd1-4aaf-a416-72a4c91e94b6",
        "colab": {
          "base_uri": "https://localhost:8080/",
          "height": 34
        }
      },
      "source": [
        "# Now to plot we need to convert it to numpy\n",
        "npimg=img.numpy()\n",
        "print(npimg.shape)"
      ],
      "execution_count": 7,
      "outputs": [
        {
          "output_type": "stream",
          "text": [
            "(3, 32, 32)\n"
          ],
          "name": "stdout"
        }
      ]
    },
    {
      "cell_type": "code",
      "metadata": {
        "id": "A7nKJdtosH8B",
        "colab_type": "code",
        "outputId": "85bc9e28-9a71-4b35-dfc5-b2945b38ef47",
        "colab": {
          "base_uri": "https://localhost:8080/",
          "height": 34
        }
      },
      "source": [
        "# To plot we should have first x then y and then z so we need to transpose this numpy img\n",
        "#In 3d transpose can be of 3 ways but we want x first then y and finally z\n",
        "npimg=np.transpose(npimg,(1,2,0))\n",
        "print(npimg.shape)"
      ],
      "execution_count": 8,
      "outputs": [
        {
          "output_type": "stream",
          "text": [
            "(32, 32, 3)\n"
          ],
          "name": "stdout"
        }
      ]
    },
    {
      "cell_type": "code",
      "metadata": {
        "id": "RM24GHSrsiRD",
        "colab_type": "code",
        "outputId": "33bf3cbe-af96-460d-ad88-afc70d20e71b",
        "colab": {
          "base_uri": "https://localhost:8080/",
          "height": 106
        }
      },
      "source": [
        "#Now we caan plot\n",
        "plt.figure(figsize=(1,1))\n",
        "plt.imshow(npimg)\n",
        "plt.show()"
      ],
      "execution_count": 9,
      "outputs": [
        {
          "output_type": "display_data",
          "data": {
            "image/png": "[encoded data removed]",
            "text/plain": [
              "<Figure size 72x72 with 1 Axes>"
            ]
          },
          "metadata": {
            "tags": []
          }
        }
      ]
    },
    {
      "cell_type": "code",
      "metadata": {
        "id": "XdmszZNvs-PC",
        "colab_type": "code",
        "colab": {}
      },
      "source": [
        "#So now I can all these plotting in a fxn\n",
        "def imshow(img):\n",
        "  npimg=img.numpy()\n",
        "  plt.imshow(np.transpose(npimg,(1,2,0)))\n",
        "  plt.show()"
      ],
      "execution_count": 0,
      "outputs": []
    },
    {
      "cell_type": "code",
      "metadata": {
        "id": "JbSCDca2tdxZ",
        "colab_type": "code",
        "outputId": "3531568a-3057-463d-a6b3-3529aac1c733",
        "colab": {
          "base_uri": "https://localhost:8080/",
          "height": 156
        }
      },
      "source": [
        "# Now I can show in grid also\n",
        "\n",
        "imshow(torchvision.utils.make_grid(images))\n",
        "print(' '.join(classes[labels[j]] for j in range(4)))"
      ],
      "execution_count": 11,
      "outputs": [
        {
          "output_type": "display_data",
          "data": {
            "image/png": "[encoded data removed]",
            "text/plain": [
              "<Figure size 432x288 with 1 Axes>"
            ]
          },
          "metadata": {
            "tags": []
          }
        },
        {
          "output_type": "stream",
          "text": [
            "frog plane dog bird\n"
          ],
          "name": "stdout"
        }
      ]
    },
    {
      "cell_type": "markdown",
      "metadata": {
        "id": "vwY9atpo8hUt",
        "colab_type": "text"
      },
      "source": [
        "# Single covolutional layer"
      ]
    },
    {
      "cell_type": "code",
      "metadata": {
        "id": "qpa_PFyI8lCe",
        "colab_type": "code",
        "colab": {}
      },
      "source": [
        "import torch.nn as nn"
      ],
      "execution_count": 0,
      "outputs": []
    },
    {
      "cell_type": "code",
      "metadata": {
        "id": "3KJIX0fsvOv6",
        "colab_type": "code",
        "colab": {}
      },
      "source": [
        "class FirstCNN(nn.Module):\n",
        "  def __init__(self):\n",
        "    super(FirstCNN,self).__init__()\n",
        "    self.conv1=nn.Conv2d(3,16,3,padding=(1,1),stride=(2,2)) # So here we are only defining one convolutional layer that is just pass the img through this layer and get\n",
        "                                                            # output. also first parameter is depth of kernel=depth of the input and second parameter is number of output\n",
        "                                                            # channel = number of different kernel we are gonna apply to img and third parameter is size of the kernel\n",
        "        # We can remove stride and padding also that is optional\n",
        "  def forward(self,x):\n",
        "    x=self.conv1(x)\n",
        "    return x"
      ],
      "execution_count": 0,
      "outputs": []
    },
    {
      "cell_type": "code",
      "metadata": {
        "id": "OeKmgh3D-ODC",
        "colab_type": "code",
        "colab": {}
      },
      "source": [
        "net=FirstCNN()"
      ],
      "execution_count": 0,
      "outputs": []
    },
    {
      "cell_type": "code",
      "metadata": {
        "id": "9vUBbdfe-jsT",
        "colab_type": "code",
        "colab": {}
      },
      "source": [
        "out=net(images)"
      ],
      "execution_count": 0,
      "outputs": []
    },
    {
      "cell_type": "code",
      "metadata": {
        "id": "CzbyXP7OVdjX",
        "colab_type": "code",
        "colab": {
          "base_uri": "https://localhost:8080/",
          "height": 34
        },
        "outputId": "e76883c0-3abc-4537-e303-a06638c0816e"
      },
      "source": [
        "out.shape # second parameter depends on number of kernels applied and width,height of reulting image can be calculated ny assuming padding and stride as 0 here"
      ],
      "execution_count": 27,
      "outputs": [
        {
          "output_type": "execute_result",
          "data": {
            "text/plain": [
              "torch.Size([4, 16, 16, 16])"
            ]
          },
          "metadata": {
            "tags": []
          },
          "execution_count": 27
        }
      ]
    },
    {
      "cell_type": "code",
      "metadata": {
        "id": "Qeq8hlH2WS8B",
        "colab_type": "code",
        "colab": {
          "base_uri": "https://localhost:8080/",
          "height": 51
        },
        "outputId": "ac4017a5-7b1c-491d-9788-80fb99842791"
      },
      "source": [
        "for param in net.parameters():\n",
        "  print(param.shape) # So since linear calculates all the parameter internally if we want to see them use this. So we have two parameters one kernels and one bias. So\n",
        "  # Bias is equal to number of kernels that is one bias for each kernel and we can see width,height and depth of kernels and their numbers."
      ],
      "execution_count": 28,
      "outputs": [
        {
          "output_type": "stream",
          "text": [
            "torch.Size([16, 3, 3, 3])\n",
            "torch.Size([16])\n"
          ],
          "name": "stdout"
        }
      ]
    },
    {
      "cell_type": "code",
      "metadata": {
        "id": "DVbBlSmtXQOI",
        "colab_type": "code",
        "colab": {
          "base_uri": "https://localhost:8080/",
          "height": 269
        },
        "outputId": "4fed256c-1381-48a3-95e6-c68f1bcc53d8"
      },
      "source": [
        "plt.imshow(out[0,0,:,:].detach().numpy())\n",
        "plt.show()\n",
        "# Plotting one of output layers"
      ],
      "execution_count": 29,
      "outputs": [
        {
          "output_type": "display_data",
          "data": {
            "image/png": "[encoded data removed]",
            "text/plain": [
              "<Figure size 432x288 with 1 Axes>"
            ]
          },
          "metadata": {
            "tags": []
          }
        }
      ]
    },
    {
      "cell_type": "markdown",
      "metadata": {
        "id": "CFLyqqB4UISx",
        "colab_type": "text"
      },
      "source": [
        "# Deep Convolutional layer"
      ]
    },
    {
      "cell_type": "code",
      "metadata": {
        "id": "j_2sBpDNUSbI",
        "colab_type": "code",
        "colab": {}
      },
      "source": [
        "class FirstCNN_v2(nn.Module):\n",
        "  def __init__(self):\n",
        "    super(FirstCNN_v2,self).__init__()\n",
        "    self.model=nn.Sequential(nn.Conv2d(3,8,3),     #(N,3,32,32) -> (N,8,30,30)\n",
        "                            nn.Conv2d(8,16,3))     #(n,8,30,30) -> (N,16,28,28)\n",
        "  def forward(self,x):\n",
        "    x=self.model(x)\n",
        "    return x"
      ],
      "execution_count": 0,
      "outputs": []
    },
    {
      "cell_type": "code",
      "metadata": {
        "id": "0r8ElE-GZBTF",
        "colab_type": "code",
        "colab": {
          "base_uri": "https://localhost:8080/",
          "height": 34
        },
        "outputId": "b23841e5-1fa8-4bf9-d416-15196fbb6910"
      },
      "source": [
        "net=FirstCNN_v2()\n",
        "out=net(images)\n",
        "out.shape"
      ],
      "execution_count": 38,
      "outputs": [
        {
          "output_type": "execute_result",
          "data": {
            "text/plain": [
              "torch.Size([4, 16, 28, 28])"
            ]
          },
          "metadata": {
            "tags": []
          },
          "execution_count": 38
        }
      ]
    },
    {
      "cell_type": "code",
      "metadata": {
        "id": "-fJCiVwmZK-4",
        "colab_type": "code",
        "colab": {
          "base_uri": "https://localhost:8080/",
          "height": 269
        },
        "outputId": "1ea238f0-98e6-40d3-a8c5-b375eaa43a26"
      },
      "source": [
        "plt.imshow(out[0,0,:,:].detach().numpy())\n",
        "plt.show()"
      ],
      "execution_count": 39,
      "outputs": [
        {
          "output_type": "display_data",
          "data": {
            "image/png": "[encoded data removed]",
            "text/plain": [
              "<Figure size 432x288 with 1 Axes>"
            ]
          },
          "metadata": {
            "tags": []
          }
        }
      ]
    },
    {
      "cell_type": "code",
      "metadata": {
        "id": "WICuhP4AZS9r",
        "colab_type": "code",
        "colab": {}
      },
      "source": [
        "class FirstCNN_v3(nn.Module):\n",
        "  def __init__(self):\n",
        "    super(FirstCNN_v3,self).__init__()\n",
        "    self.model=nn.Sequential(nn.Conv2d(3,6,5),     #(N,3,32,32) -> (N,6,28,28)\n",
        "                             nn.AvgPool2d(2,stride=2), # (N,6,28,28) -> (N,6,14,14)\n",
        "                            nn.Conv2d(6,16,5),     #(N,6,14,14) -> (N,16,10,10)\n",
        "                            nn.AvgPool2d(2,stride=2)) #(N,16,10,10) -> (n,16,5,5)\n",
        "                         \n",
        "  def forward(self,x):\n",
        "    x=self.model(x)\n",
        "    return x"
      ],
      "execution_count": 0,
      "outputs": []
    },
    {
      "cell_type": "code",
      "metadata": {
        "id": "woKH2VYKa-U3",
        "colab_type": "code",
        "colab": {
          "base_uri": "https://localhost:8080/",
          "height": 269
        },
        "outputId": "21561cfa-7f8a-4b05-e22d-6a61f050d7d2"
      },
      "source": [
        "net=FirstCNN_v3()\n",
        "out=net(images)\n",
        "out.shape\n",
        "plt.imshow(out[0,0,:,:].detach().numpy())\n",
        "plt.show()"
      ],
      "execution_count": 41,
      "outputs": [
        {
          "output_type": "display_data",
          "data": {
            "image/png": "[encoded data removed]",
            "text/plain": [
              "<Figure size 432x288 with 1 Axes>"
            ]
          },
          "metadata": {
            "tags": []
          }
        }
      ]
    },
    {
      "cell_type": "markdown",
      "metadata": {
        "id": "vzgrY_tPbikJ",
        "colab_type": "text"
      },
      "source": [
        "# LeNet"
      ]
    },
    {
      "cell_type": "code",
      "metadata": {
        "id": "dbjXVo_4bk7p",
        "colab_type": "code",
        "colab": {}
      },
      "source": [
        ""
      ],
      "execution_count": 0,
      "outputs": []
    }
  ]
}
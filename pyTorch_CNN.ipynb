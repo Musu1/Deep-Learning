{
  "nbformat": 4,
  "nbformat_minor": 0,
  "metadata": {
    "colab": {
      "name": "pyTorch_CNN.ipynb",
      "provenance": [],
      "include_colab_link": true
    },
    "kernelspec": {
      "name": "python3",
      "display_name": "Python 3"
    },
    "accelerator": "GPU"
  },
  "cells": [
    {
      "cell_type": "markdown",
      "metadata": {
        "id": "view-in-github",
        "colab_type": "text"
      },
      "source": [
        "<a href=\"https://colab.research.google.com/github/Musu1/Deep-Learning/blob/master/pyTorch_CNN.ipynb\" target=\"_parent\"><img src=\"https://colab.research.google.com/assets/colab-badge.svg\" alt=\"Open In Colab\"/></a>"
      ]
    },
    {
      "cell_type": "code",
      "metadata": {
        "id": "i4YekyYPJgfu",
        "colab_type": "code",
        "colab": {}
      },
      "source": [
        "import torch\n",
        "import matplotlib.pyplot as plt\n",
        "import numpy as np"
      ],
      "execution_count": 0,
      "outputs": []
    },
    {
      "cell_type": "markdown",
      "metadata": {
        "id": "hs6T6CwoJ8_1",
        "colab_type": "text"
      },
      "source": [
        "# Data Loading"
      ]
    },
    {
      "cell_type": "code",
      "metadata": {
        "id": "UdG5ynW4KAWP",
        "colab_type": "code",
        "outputId": "f5c0f31e-8a10-45b8-c360-a4df70f00652",
        "colab": {
          "base_uri": "https://localhost:8080/",
          "height": 34
        }
      },
      "source": [
        "import torchvision #This library is for using computer vision with pytorch\n",
        "import torchvision.transforms as transforms\n",
        "# Data set which we are using is CIFAR10 which has 32x32 size images dividede in 10 classes can be found on google. Also there is CIFAR100 which has 100 classes\n",
        "#We can either download manually or use this comand to download this particular dataset\n",
        "trainset=torchvision.datasets.CIFAR10(root='./data',train=True,download=True,transform=transforms.ToTensor())"
      ],
      "execution_count": 2,
      "outputs": [
        {
          "output_type": "stream",
          "text": [
            "Files already downloaded and verified\n"
          ],
          "name": "stdout"
        }
      ]
    },
    {
      "cell_type": "code",
      "metadata": {
        "id": "kgi6Ioo-LgR1",
        "colab_type": "code",
        "colab": {}
      },
      "source": [
        "# Now the labels from the data would be indexes and not the names so we are manually putting them\n",
        "classes=('plane','car','bird','cat','deer','dog','frog','horse','ship','truck')"
      ],
      "execution_count": 0,
      "outputs": []
    },
    {
      "cell_type": "code",
      "metadata": {
        "id": "1DGs695vijyF",
        "colab_type": "code",
        "colab": {}
      },
      "source": [
        "# We are loading data from trainset (downloaded one) and in batch size of 4 that is everytime it will give me 4 different images\n",
        "trainloader=torch.utils.data.DataLoader(trainset,batch_size=4,shuffle='True')"
      ],
      "execution_count": 0,
      "outputs": []
    },
    {
      "cell_type": "code",
      "metadata": {
        "id": "DTaD83Hnkem3",
        "colab_type": "code",
        "outputId": "b9784378-bbab-4218-ffde-f70b9d818c4f",
        "colab": {
          "base_uri": "https://localhost:8080/",
          "height": 68
        }
      },
      "source": [
        "#Now I need to create an iterator to iterate over the trainloader\n",
        "dataiter=iter(trainloader)\n",
        "images,labels=dataiter.next()\n",
        "print(images.shape) #This would give us a batch of four images size\n",
        "print(images[0].shape) # This shows length,width and height of a image\n",
        "print(labels[0].item()) # This will return an index which can be inferred from classes"
      ],
      "execution_count": 5,
      "outputs": [
        {
          "output_type": "stream",
          "text": [
            "torch.Size([4, 3, 32, 32])\n",
            "torch.Size([3, 32, 32])\n",
            "0\n"
          ],
          "name": "stdout"
        }
      ]
    },
    {
      "cell_type": "markdown",
      "metadata": {
        "id": "Lcm-YC9loZDU",
        "colab_type": "text"
      },
      "source": [
        "#Visualise data"
      ]
    },
    {
      "cell_type": "code",
      "metadata": {
        "id": "EdtSlhPpoc02",
        "colab_type": "code",
        "outputId": "337e5bbb-7a4f-4db9-9b18-3d7fec3738e0",
        "colab": {
          "base_uri": "https://localhost:8080/",
          "height": 34
        }
      },
      "source": [
        "img=images[0]\n",
        "print(type(img))"
      ],
      "execution_count": 6,
      "outputs": [
        {
          "output_type": "stream",
          "text": [
            "<class 'torch.Tensor'>\n"
          ],
          "name": "stdout"
        }
      ]
    },
    {
      "cell_type": "code",
      "metadata": {
        "id": "oPleqbLdqir6",
        "colab_type": "code",
        "outputId": "43b36240-9034-4e2e-ddbc-88063ec891b1",
        "colab": {
          "base_uri": "https://localhost:8080/",
          "height": 34
        }
      },
      "source": [
        "# Now to plot we need to convert it to numpy\n",
        "npimg=img.numpy()\n",
        "print(npimg.shape)"
      ],
      "execution_count": 7,
      "outputs": [
        {
          "output_type": "stream",
          "text": [
            "(3, 32, 32)\n"
          ],
          "name": "stdout"
        }
      ]
    },
    {
      "cell_type": "code",
      "metadata": {
        "id": "A7nKJdtosH8B",
        "colab_type": "code",
        "outputId": "94f1d81e-f8ad-4e05-9517-976e6717db88",
        "colab": {
          "base_uri": "https://localhost:8080/",
          "height": 34
        }
      },
      "source": [
        "# To plot we should have first x then y and then z so we need to transpose this numpy img\n",
        "#In 3d transpose can be of 3 ways but we want x first then y and finally z\n",
        "npimg=np.transpose(npimg,(1,2,0))\n",
        "print(npimg.shape)"
      ],
      "execution_count": 8,
      "outputs": [
        {
          "output_type": "stream",
          "text": [
            "(32, 32, 3)\n"
          ],
          "name": "stdout"
        }
      ]
    },
    {
      "cell_type": "code",
      "metadata": {
        "id": "RM24GHSrsiRD",
        "colab_type": "code",
        "outputId": "ccb0b4bb-9295-4af7-8006-7e7eb0fd46cf",
        "colab": {
          "base_uri": "https://localhost:8080/",
          "height": 106
        }
      },
      "source": [
        "#Now we caan plot\n",
        "plt.figure(figsize=(1,1))\n",
        "plt.imshow(npimg)\n",
        "plt.show()"
      ],
      "execution_count": 9,
      "outputs": [
        {
          "output_type": "display_data",
          "data": {
            "image/png": "[encoded data removed]",
            "text/plain": [
              "<Figure size 72x72 with 1 Axes>"
            ]
          },
          "metadata": {
            "tags": []
          }
        }
      ]
    },
    {
      "cell_type": "code",
      "metadata": {
        "id": "XdmszZNvs-PC",
        "colab_type": "code",
        "colab": {}
      },
      "source": [
        "#So now I can all these plotting in a fxn\n",
        "def imshow(img):\n",
        "  npimg=img.numpy()\n",
        "  plt.imshow(np.transpose(npimg,(1,2,0)))\n",
        "  plt.show()"
      ],
      "execution_count": 0,
      "outputs": []
    },
    {
      "cell_type": "code",
      "metadata": {
        "id": "JbSCDca2tdxZ",
        "colab_type": "code",
        "outputId": "941a37c3-dc87-44f9-fada-a12004fea531",
        "colab": {
          "base_uri": "https://localhost:8080/",
          "height": 156
        }
      },
      "source": [
        "# Now I can show in grid also\n",
        "\n",
        "imshow(torchvision.utils.make_grid(images))\n",
        "print(' '.join(classes[labels[j]] for j in range(4)))"
      ],
      "execution_count": 11,
      "outputs": [
        {
          "output_type": "display_data",
          "data": {
            "image/png": "[encoded data removed]",
            "text/plain": [
              "<Figure size 432x288 with 1 Axes>"
            ]
          },
          "metadata": {
            "tags": []
          }
        },
        {
          "output_type": "stream",
          "text": [
            "plane plane car car\n"
          ],
          "name": "stdout"
        }
      ]
    },
    {
      "cell_type": "markdown",
      "metadata": {
        "id": "vwY9atpo8hUt",
        "colab_type": "text"
      },
      "source": [
        "# Single covolutional layer"
      ]
    },
    {
      "cell_type": "code",
      "metadata": {
        "id": "qpa_PFyI8lCe",
        "colab_type": "code",
        "colab": {}
      },
      "source": [
        "import torch.nn as nn"
      ],
      "execution_count": 0,
      "outputs": []
    },
    {
      "cell_type": "code",
      "metadata": {
        "id": "xV2Gx6yEIhbz",
        "colab_type": "code",
        "colab": {}
      },
      "source": [
        "class FirstCNN(nn.Module):\n",
        "    def __init__(self): \n",
        "        super(FirstCNN, self).__init__()\n",
        "        self.conv1 = nn.Conv2d(3, 16, 3, padding=(1,1), stride=(2,2)) # padding=(1,1), stride=(2,2))\n",
        "                                                             # So here we are only defining one convolutional layer that is just pass the img through this layer and get\n",
        "                                                            # output. also first parameter is depth of kernel=depth of the input and second parameter is number of output\n",
        "                                                            # channel = number of different kernel we are gonna apply to img and third parameter is size of the kernel\n",
        "        \n",
        "    def forward(self, x):\n",
        "        x = self.conv1(x)\n",
        "        return x"
      ],
      "execution_count": 0,
      "outputs": []
    },
    {
      "cell_type": "code",
      "metadata": {
        "id": "OeKmgh3D-ODC",
        "colab_type": "code",
        "colab": {}
      },
      "source": [
        "net = FirstCNN()"
      ],
      "execution_count": 0,
      "outputs": []
    },
    {
      "cell_type": "code",
      "metadata": {
        "id": "Tv7ZiZelIthd",
        "colab_type": "code",
        "colab": {
          "base_uri": "https://localhost:8080/",
          "height": 34
        },
        "outputId": "56a1f09c-044c-4d05-a121-dba21936e3e9"
      },
      "source": [
        "out = net(images)\n",
        "out.shape"
      ],
      "execution_count": 18,
      "outputs": [
        {
          "output_type": "execute_result",
          "data": {
            "text/plain": [
              "torch.Size([4, 16, 16, 16])"
            ]
          },
          "metadata": {
            "tags": []
          },
          "execution_count": 18
        }
      ]
    },
    {
      "cell_type": "code",
      "metadata": {
        "id": "Vtf-WkvkJE-i",
        "colab_type": "code",
        "colab": {}
      },
      "source": [
        ""
      ],
      "execution_count": 0,
      "outputs": []
    }
  ]
}
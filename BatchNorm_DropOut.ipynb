{
  "nbformat": 4,
  "nbformat_minor": 0,
  "metadata": {
    "colab": {
      "name": "BatchNorm_DropOut.ipynb",
      "provenance": [],
      "collapsed_sections": [],
      "authorship_tag": "ABX9TyMnVRQX2ikPSwyT/NY3sv7r",
      "include_colab_link": true
    },
    "kernelspec": {
      "name": "python3",
      "display_name": "Python 3"
    }
  },
  "cells": [
    {
      "cell_type": "markdown",
      "metadata": {
        "id": "view-in-github",
        "colab_type": "text"
      },
      "source": [
        "<a href=\"https://colab.research.google.com/github/Musu1/Deep-Learning/blob/master/BatchNorm_DropOut.ipynb\" target=\"_parent\"><img src=\"https://colab.research.google.com/assets/colab-badge.svg\" alt=\"Open In Colab\"/></a>"
      ]
    },
    {
      "cell_type": "code",
      "metadata": {
        "id": "iI9vMAcBaOQD",
        "colab_type": "code",
        "colab": {}
      },
      "source": [
        "import torch\n",
        "import matplotlib.pyplot as plt\n",
        "import numpy as np\n",
        "\n",
        "import torchvision\n",
        "import torchvision.transforms as transforms\n",
        "\n",
        "import torch.nn as nn\n",
        "import torch.optim as optim\n",
        "import seaborn as sns"
      ],
      "execution_count": 0,
      "outputs": []
    },
    {
      "cell_type": "markdown",
      "metadata": {
        "id": "N9SDKKxbeVTm",
        "colab_type": "text"
      },
      "source": [
        "#DataSet and visualisation"
      ]
    },
    {
      "cell_type": "code",
      "metadata": {
        "id": "peTyIOdAeKI9",
        "colab_type": "code",
        "colab": {}
      },
      "source": [
        "transform_train=transforms.Compose([transforms.ToTensor(),])"
      ],
      "execution_count": 0,
      "outputs": []
    },
    {
      "cell_type": "code",
      "metadata": {
        "id": "G7OCbQq6e6QJ",
        "colab_type": "code",
        "outputId": "9c520b32-fee1-45f0-eb04-75178a60d324",
        "colab": {
          "base_uri": "https://localhost:8080/",
          "height": 272
        }
      },
      "source": [
        "trainset=torchvision.datasets.MNIST(root='./data',train=True,download=True,transform=transforms.ToTensor())\n",
        "# Dataset is to recognize numbers in an image. So I am using MNIST dataset"
      ],
      "execution_count": 0,
      "outputs": [
        {
          "output_type": "stream",
          "text": [
            "  0%|          | 0/9912422 [00:00<?, ?it/s]"
          ],
          "name": "stderr"
        },
        {
          "output_type": "stream",
          "text": [
            "Downloading http://yann.lecun.com/exdb/mnist/train-images-idx3-ubyte.gz to ./data/MNIST/raw/train-images-idx3-ubyte.gz\n"
          ],
          "name": "stdout"
        },
        {
          "output_type": "stream",
          "text": [
            "9920512it [00:00, 27546678.26it/s]                            \n"
          ],
          "name": "stderr"
        },
        {
          "output_type": "stream",
          "text": [
            "Extracting ./data/MNIST/raw/train-images-idx3-ubyte.gz to ./data/MNIST/raw\n"
          ],
          "name": "stdout"
        },
        {
          "output_type": "stream",
          "text": [
            "32768it [00:00, 474708.24it/s]\n",
            "  1%|          | 16384/1648877 [00:00<00:11, 143986.00it/s]"
          ],
          "name": "stderr"
        },
        {
          "output_type": "stream",
          "text": [
            "Downloading http://yann.lecun.com/exdb/mnist/train-labels-idx1-ubyte.gz to ./data/MNIST/raw/train-labels-idx1-ubyte.gz\n",
            "Extracting ./data/MNIST/raw/train-labels-idx1-ubyte.gz to ./data/MNIST/raw\n",
            "Downloading http://yann.lecun.com/exdb/mnist/t10k-images-idx3-ubyte.gz to ./data/MNIST/raw/t10k-images-idx3-ubyte.gz\n"
          ],
          "name": "stdout"
        },
        {
          "output_type": "stream",
          "text": [
            "1654784it [00:00, 7590455.70it/s]                            \n",
            "8192it [00:00, 188598.06it/s]\n"
          ],
          "name": "stderr"
        },
        {
          "output_type": "stream",
          "text": [
            "Extracting ./data/MNIST/raw/t10k-images-idx3-ubyte.gz to ./data/MNIST/raw\n",
            "Downloading http://yann.lecun.com/exdb/mnist/t10k-labels-idx1-ubyte.gz to ./data/MNIST/raw/t10k-labels-idx1-ubyte.gz\n",
            "Extracting ./data/MNIST/raw/t10k-labels-idx1-ubyte.gz to ./data/MNIST/raw\n",
            "Processing...\n",
            "Done!\n"
          ],
          "name": "stdout"
        }
      ]
    },
    {
      "cell_type": "code",
      "metadata": {
        "id": "cOCMo_4Wfqwm",
        "colab_type": "code",
        "colab": {}
      },
      "source": [
        "batch_size=4"
      ],
      "execution_count": 0,
      "outputs": []
    },
    {
      "cell_type": "code",
      "metadata": {
        "id": "0T06wciIfx1E",
        "colab_type": "code",
        "colab": {}
      },
      "source": [
        "trainloader=torch.utils.data.DataLoader(trainset,batch_size=batch_size,shuffle=True)"
      ],
      "execution_count": 0,
      "outputs": []
    },
    {
      "cell_type": "code",
      "metadata": {
        "id": "me28KQSSgCX2",
        "colab_type": "code",
        "outputId": "fe51aa83-1e16-4f2b-a963-c099fdccd70f",
        "colab": {
          "base_uri": "https://localhost:8080/",
          "height": 67
        }
      },
      "source": [
        "dataiter=iter(trainloader)\n",
        "images,labels=dataiter.next()\n",
        "\n",
        "print(images.shape)\n",
        "\n",
        "print(images[0].shape)\n",
        "print(labels[0].item())\n",
        "# The images in the dataset are gray scale that is single channel and 28x28 image."
      ],
      "execution_count": 0,
      "outputs": [
        {
          "output_type": "stream",
          "text": [
            "torch.Size([4, 1, 28, 28])\n",
            "torch.Size([1, 28, 28])\n",
            "1\n"
          ],
          "name": "stdout"
        }
      ]
    },
    {
      "cell_type": "code",
      "metadata": {
        "id": "Jg8A1R1Ig8Gk",
        "colab_type": "code",
        "colab": {}
      },
      "source": [
        "def imshow(img,title):\n",
        "  plt.figure(figsize=(batch_size*4,4))\n",
        "  plt.axis('off')\n",
        "  plt.imshow(np.transpose(img,(1,2,0)))\n",
        "  plt.title(title)\n",
        "  plt.show()"
      ],
      "execution_count": 0,
      "outputs": []
    },
    {
      "cell_type": "code",
      "metadata": {
        "id": "MVRcXXcphgiP",
        "colab_type": "code",
        "colab": {}
      },
      "source": [
        "def show_batch_images(dataloader):\n",
        "  images,labels=next(iter(dataloader))\n",
        "  img=torchvision.utils.make_grid(images)\n",
        "  imshow(img,title=[str(x.item()) for x in labels])\n",
        "  return images,labels"
      ],
      "execution_count": 0,
      "outputs": []
    },
    {
      "cell_type": "code",
      "metadata": {
        "id": "GN2YsUOeiNon",
        "colab_type": "code",
        "outputId": "4eb797a1-cf0e-46ab-8232-4e188267d0cb",
        "colab": {
          "base_uri": "https://localhost:8080/",
          "height": 284
        }
      },
      "source": [
        "images,labels=show_batch_images(trainloader)"
      ],
      "execution_count": 0,
      "outputs": [
        {
          "output_type": "display_data",
          "data": {
            "image/png": "[encoded data removed]",
            "text/plain": [
              "<Figure size 1152x288 with 1 Axes>"
            ]
          },
          "metadata": {
            "tags": []
          }
        }
      ]
    },
    {
      "cell_type": "markdown",
      "metadata": {
        "id": "C5UvcAC0iWFw",
        "colab_type": "text"
      },
      "source": [
        "# Batchnorm"
      ]
    },
    {
      "cell_type": "code",
      "metadata": {
        "id": "UI2Du2TViZei",
        "colab_type": "code",
        "colab": {}
      },
      "source": [
        "class MyNet(nn.Module):\n",
        "  def __init__(self):\n",
        "    super(MyNet,self).__init__()\n",
        "    self.classifier=nn.Sequential(\n",
        "        nn.Linear(784,48), # since image is 28x28=784\n",
        "        nn.ReLU(), # Applying nonlinearity\n",
        "        nn.Linear(48,24),\n",
        "        nn.ReLU(),\n",
        "        nn.Linear(24,10) # Final output in 10 classes\n",
        "    )\n",
        "\n",
        "  def forward(self,x):\n",
        "    x=x.view(x.size(0),-1)\n",
        "    x=self.classifier(x)\n",
        "    return x"
      ],
      "execution_count": 0,
      "outputs": []
    },
    {
      "cell_type": "code",
      "metadata": {
        "id": "ZrCPeGx5jotr",
        "colab_type": "code",
        "colab": {}
      },
      "source": [
        "class MyNetBN(nn.Module):\n",
        "  def __init__(self):\n",
        "    super(MyNetBN,self).__init__()\n",
        "    self.classifier=nn.Sequential(\n",
        "        nn.Linear(784,48), # since image is 28x28=784\n",
        "        nn.BatchNorm1d(48), #BatchNorm input is number of channels \n",
        "        nn.ReLU(), # Applying nonlinearity\n",
        "        nn.Linear(48,24),\n",
        "        nn.BatchNorm1d(24),\n",
        "        nn.ReLU(),\n",
        "        nn.Linear(24,10) # Final output in 10 classes\n",
        "    )\n",
        "\n",
        "  def forward(self,x):\n",
        "    x=x.view(x.size(0),-1)\n",
        "    x=self.classifier(x)\n",
        "    return x"
      ],
      "execution_count": 0,
      "outputs": []
    },
    {
      "cell_type": "code",
      "metadata": {
        "id": "RBgoepS5kwtf",
        "colab_type": "code",
        "outputId": "0694fc97-5f16-4433-e49a-8fd1e9e45818",
        "colab": {
          "base_uri": "https://localhost:8080/",
          "height": 168
        }
      },
      "source": [
        "model=MyNet()\n",
        "print(model)"
      ],
      "execution_count": 0,
      "outputs": [
        {
          "output_type": "stream",
          "text": [
            "MyNet(\n",
            "  (classifier): Sequential(\n",
            "    (0): Linear(in_features=784, out_features=48, bias=True)\n",
            "    (1): ReLU()\n",
            "    (2): Linear(in_features=48, out_features=24, bias=True)\n",
            "    (3): ReLU()\n",
            "    (4): Linear(in_features=24, out_features=10, bias=True)\n",
            "  )\n",
            ")\n"
          ],
          "name": "stdout"
        }
      ]
    },
    {
      "cell_type": "code",
      "metadata": {
        "id": "4rpQXNmzk2FP",
        "colab_type": "code",
        "outputId": "5d08193f-39eb-4244-972d-727b58cf84ea",
        "colab": {
          "base_uri": "https://localhost:8080/",
          "height": 222
        }
      },
      "source": [
        "model_bn=MyNetBN()\n",
        "print(model_bn)"
      ],
      "execution_count": 0,
      "outputs": [
        {
          "output_type": "stream",
          "text": [
            "MyNetBN(\n",
            "  (classifier): Sequential(\n",
            "    (0): Linear(in_features=784, out_features=48, bias=True)\n",
            "    (1): BatchNorm1d(48, eps=1e-05, momentum=0.1, affine=True, track_running_stats=True)\n",
            "    (2): ReLU()\n",
            "    (3): Linear(in_features=48, out_features=24, bias=True)\n",
            "    (4): BatchNorm1d(24, eps=1e-05, momentum=0.1, affine=True, track_running_stats=True)\n",
            "    (5): ReLU()\n",
            "    (6): Linear(in_features=24, out_features=10, bias=True)\n",
            "  )\n",
            ")\n"
          ],
          "name": "stdout"
        }
      ]
    },
    {
      "cell_type": "code",
      "metadata": {
        "id": "EUfRadxClF7F",
        "colab_type": "code",
        "colab": {}
      },
      "source": [
        "batch_size=512"
      ],
      "execution_count": 0,
      "outputs": []
    },
    {
      "cell_type": "code",
      "metadata": {
        "id": "oM31eIVjlISQ",
        "colab_type": "code",
        "colab": {}
      },
      "source": [
        "trainloader=torch.utils.data.DataLoader(trainset,batch_size=batch_size,shuffle=True)"
      ],
      "execution_count": 0,
      "outputs": []
    },
    {
      "cell_type": "code",
      "metadata": {
        "id": "424cWK0flULh",
        "colab_type": "code",
        "colab": {}
      },
      "source": [
        "# Here we will be training two models simultaneously\n",
        "loss_fn=nn.CrossEntropyLoss()\n",
        "opt=optim.SGD(model.parameters(),lr=0.001)\n",
        "opt_bn=optim.SGD(model_bn.parameters(),lr=0.001)"
      ],
      "execution_count": 0,
      "outputs": []
    },
    {
      "cell_type": "code",
      "metadata": {
        "id": "OhgBvYgdl2IY",
        "colab_type": "code",
        "outputId": "b27b8aaf-1504-4046-baef-3e9e51f3ef35",
        "colab": {
          "base_uri": "https://localhost:8080/",
          "height": 1000
        }
      },
      "source": [
        "loss_arr=[]\n",
        "loss_bn_arr=[]\n",
        "\n",
        "max_epochs=2\n",
        "\n",
        "for epoch in range(max_epochs):\n",
        "  for i,data in enumerate(trainloader,0):\n",
        "    inputs,labels=data\n",
        "\n",
        "    # training steps for normal model\n",
        "    opt.zero_grad()\n",
        "    outputs=model(inputs)\n",
        "    loss=loss_fn(outputs,labels)\n",
        "    loss.backward()\n",
        "    opt.step()\n",
        "\n",
        "    # training stes for batch norm model\n",
        "    opt_bn.zero_grad()\n",
        "    outputs_bn=model_bn(inputs)\n",
        "    loss_bn=loss_fn(outputs_bn,labels)\n",
        "    loss_bn.backward()\n",
        "    opt_bn.step()\n",
        "\n",
        "    loss_arr.append(loss.item())\n",
        "    loss_bn_arr.append(loss_bn.item())\n",
        "\n",
        "    if i%100==0:\n",
        "      inputs=inputs.view(inputs.size(0),-1)\n",
        "\n",
        "      model.eval()\n",
        "      model_bn.eval()\n",
        "\n",
        "      a=model.classifier[0](inputs)\n",
        "      a=model.classifier[1](a)\n",
        "      a=model.classifier[2](a)\n",
        "      a=a.detach().numpy().ravel()\n",
        "      sns.distplot(a,kde=True,color='r',label='Normal')\n",
        "\n",
        "      b=model_bn.classifier[0](inputs)\n",
        "      b=model_bn.classifier[1](b)\n",
        "      b=model_bn.classifier[2](b)\n",
        "      b=model_bn.classifier[3](b)\n",
        "      b=model_bn.classifier[4](b)\n",
        "      b=b.detach().numpy().ravel()\n",
        "\n",
        "      sns.distplot(b,kde=True,color='g',label='BatchNorm')\n",
        "      print(np.mean(a),np.std(a),np.mean(b),np.std(b))\n",
        "      plt.title('%d:Loss = %0.2f, Loss with bn = %0.2f' % (i,loss.item(),loss_bn.item()))\n",
        "      plt.legend()\n",
        "      plt.show()\n",
        "      plt.pause(0.5)\n",
        "\n",
        "      model.train()\n",
        "      model_bn.train()\n",
        "\n",
        "print('---------------------------------')"
      ],
      "execution_count": 0,
      "outputs": [
        {
          "output_type": "stream",
          "text": [
            "0.0032683972 0.11837311 0.027140578 0.095467456\n"
          ],
          "name": "stdout"
        },
        {
          "output_type": "display_data",
          "data": {
            "image/png": "[encoded data removed]",
            "text/plain": [
              "<Figure size 432x288 with 1 Axes>"
            ]
          },
          "metadata": {
            "tags": []
          }
        },
        {
          "output_type": "stream",
          "text": [
            "0.0042910078 0.12205891 0.005492831 0.99180835\n"
          ],
          "name": "stdout"
        },
        {
          "output_type": "display_data",
          "data": {
            "image/png": "[encoded data removed]",
            "text/plain": [
              "<Figure size 432x288 with 1 Axes>"
            ]
          },
          "metadata": {
            "tags": []
          }
        },
        {
          "output_type": "stream",
          "text": [
            "0.004060462 0.12087086 0.0050159283 0.99772215\n"
          ],
          "name": "stdout"
        },
        {
          "output_type": "display_data",
          "data": {
            "image/png": "[encoded data removed]",
            "text/plain": [
              "<Figure size 432x288 with 1 Axes>"
            ]
          },
          "metadata": {
            "tags": []
          }
        },
        {
          "output_type": "stream",
          "text": [
            "0.0055091623 0.12231905 0.0039706747 0.99288934\n"
          ],
          "name": "stdout"
        },
        {
          "output_type": "display_data",
          "data": {
            "image/png": "[encoded data removed]",
            "text/plain": [
              "<Figure size 432x288 with 1 Axes>"
            ]
          },
          "metadata": {
            "tags": []
          }
        },
        {
          "output_type": "stream",
          "text": [
            "---------------------------------\n"
          ],
          "name": "stdout"
        }
      ]
    },
    {
      "cell_type": "code",
      "metadata": {
        "id": "7UA8W1qIqU8q",
        "colab_type": "code",
        "colab": {}
      },
      "source": [
        ""
      ],
      "execution_count": 0,
      "outputs": []
    }
  ]
}